{
  "nbformat": 4,
  "nbformat_minor": 0,
  "metadata": {
    "colab": {
      "provenance": []
    },
    "kernelspec": {
      "name": "python3",
      "display_name": "Python 3"
    },
    "language_info": {
      "name": "python"
    }
  },
  "cells": [
    {
      "cell_type": "markdown",
      "source": [
        "**Question No.1] Write a Python program to print &quot;Hello Python&quot;?**"
      ],
      "metadata": {
        "id": "erzaVmMZ35eQ"
      }
    },
    {
      "cell_type": "code",
      "execution_count": 1,
      "metadata": {
        "colab": {
          "base_uri": "https://localhost:8080/"
        },
        "id": "fk4jAETg3sVw",
        "outputId": "0e67e7f1-8039-408f-d368-db4454e8bfc4"
      },
      "outputs": [
        {
          "output_type": "stream",
          "name": "stdout",
          "text": [
            "hello world\n"
          ]
        }
      ],
      "source": [
        "print(\"hello world\")"
      ]
    },
    {
      "cell_type": "markdown",
      "source": [
        "\n",
        "\n",
        "---\n",
        "\n"
      ],
      "metadata": {
        "id": "oJHWmENW7iqK"
      }
    },
    {
      "cell_type": "markdown",
      "source": [
        "**Question No.2.] Write a Python program to do arithmetical operations addition and division.?**"
      ],
      "metadata": {
        "id": "UIgAAy5t344N"
      }
    },
    {
      "cell_type": "code",
      "source": [
        "a = int(input())\n",
        "b = int(input())\n",
        "\n",
        "print( \"addition \" , a+b)\n",
        "print( \"division \" , a/b)"
      ],
      "metadata": {
        "colab": {
          "base_uri": "https://localhost:8080/"
        },
        "id": "kvo8CyAH4Nvm",
        "outputId": "1fb5512f-66be-4770-9e00-a1ec25231870"
      },
      "execution_count": 2,
      "outputs": [
        {
          "output_type": "stream",
          "name": "stdout",
          "text": [
            "23\n",
            "33\n",
            "addition  56\n",
            "division  0.696969696969697\n"
          ]
        }
      ]
    },
    {
      "cell_type": "markdown",
      "source": [
        "\n",
        "\n",
        "---\n",
        "\n"
      ],
      "metadata": {
        "id": "Bo-XtlfW7gZG"
      }
    },
    {
      "cell_type": "markdown",
      "source": [
        "**Question No.3.] Write a Python program to find the area of a triangle?**"
      ],
      "metadata": {
        "id": "nfPixZa24mvT"
      }
    },
    {
      "cell_type": "code",
      "source": [
        "base = int(input(\"Enter the base of the traingle :\"))\n",
        "height = int(input(\"Enter the height of the traingle :\"))\n",
        "\n",
        "area_of_triangle = 1/2 * base * height \n",
        "\n",
        "print(\"area of triangle : \" , area_of_triangle )"
      ],
      "metadata": {
        "colab": {
          "base_uri": "https://localhost:8080/"
        },
        "id": "v4I0zy3w4fcd",
        "outputId": "cce506bc-5e4d-433c-90b5-cdf4c2e74113"
      },
      "execution_count": 3,
      "outputs": [
        {
          "output_type": "stream",
          "name": "stdout",
          "text": [
            "Enter the base of the traingle :4\n",
            "Enter the height of the traingle :6\n",
            "area of triangle :  12.0\n"
          ]
        }
      ]
    },
    {
      "cell_type": "markdown",
      "source": [
        "****"
      ],
      "metadata": {
        "id": "mFrlfAIy7dVp"
      }
    },
    {
      "cell_type": "markdown",
      "source": [
        "**Question No.4.] Write a Python program to swap two variables?**"
      ],
      "metadata": {
        "id": "O6fZ8CL15wvv"
      }
    },
    {
      "cell_type": "code",
      "source": [
        "a = 10 \n",
        "b = 90\n",
        "\n",
        "print(\"value of a before swapping \" , a )\n",
        "print(\"value of b before swapping \" , b )\n",
        "print(\"\\t\")\n",
        "temp = a \n",
        "a = b\n",
        "b = temp \n",
        "\n",
        "print(\"value of a after swapping :\" , a)\n",
        "print(\"value of b after swapping :\" , b)"
      ],
      "metadata": {
        "colab": {
          "base_uri": "https://localhost:8080/"
        },
        "id": "gcEl0LP75oII",
        "outputId": "eaa55266-8247-4e82-f34c-aa178c110fa9"
      },
      "execution_count": 7,
      "outputs": [
        {
          "output_type": "stream",
          "name": "stdout",
          "text": [
            "value of a before swapping  10\n",
            "value of b before swapping  90\n",
            "\t\n",
            "value of a after swapping : 90\n",
            "value of b after swapping : 10\n"
          ]
        }
      ]
    },
    {
      "cell_type": "markdown",
      "source": [
        "****"
      ],
      "metadata": {
        "id": "0T_JrOIg7KcO"
      }
    },
    {
      "cell_type": "markdown",
      "source": [
        "**Question No.5.] Write a Python program to generate a random number?**"
      ],
      "metadata": {
        "id": "_QtIXyVj7Q9W"
      }
    },
    {
      "cell_type": "code",
      "source": [
        "import random\n",
        "\n",
        "print(random.randint(0,99))"
      ],
      "metadata": {
        "colab": {
          "base_uri": "https://localhost:8080/"
        },
        "id": "HHONPPqp6Gz7",
        "outputId": "8eec7559-2204-40bb-e938-93ceb1c5eb30"
      },
      "execution_count": 11,
      "outputs": [
        {
          "output_type": "stream",
          "name": "stdout",
          "text": [
            "57\n"
          ]
        }
      ]
    },
    {
      "cell_type": "markdown",
      "source": [
        "\n",
        "\n",
        "---\n",
        "\n"
      ],
      "metadata": {
        "id": "QydIX-Nf7kkl"
      }
    }
  ]
}